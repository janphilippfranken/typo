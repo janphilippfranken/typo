{
 "cells": [
  {
   "cell_type": "code",
   "execution_count": 4,
   "metadata": {},
   "outputs": [
    {
     "data": {
      "text/plain": [
       "array([[0.27656019, 0.39010648],\n",
       "       [0.35430765, 0.31235902],\n",
       "       [0.36913216, 0.2975345 ]])"
      ]
     },
     "execution_count": 4,
     "metadata": {},
     "output_type": "execute_result"
    }
   ],
   "source": [
    "import numpy as np\n",
    "\n",
    "def sinkhorn_knopp(matrix, tol=1e-10, max_iter=1000):\n",
    "    \"\"\"\n",
    "    Normalize a matrix using the Sinkhorn-Knopp algorithm.\n",
    "\n",
    "    Parameters:\n",
    "    - matrix: The input matrix to normalize.\n",
    "    - tol: Tolerance for the stopping criterion.\n",
    "    - max_iter: Maximum number of iterations.\n",
    "\n",
    "    Returns:\n",
    "    - The normalized matrix.\n",
    "    \"\"\"\n",
    "    R, C = matrix.shape\n",
    "    for _ in range(max_iter):\n",
    "        # Row normalization\n",
    "        row_sums = matrix.sum(axis=1, keepdims=True)\n",
    "        matrix = matrix / row_sums\n",
    "        \n",
    "        # Column normalization\n",
    "        col_sums = matrix.sum(axis=0, keepdims=True)\n",
    "        matrix = matrix / col_sums\n",
    "        \n",
    "        # Check for convergence\n",
    "        if np.max(np.abs(row_sums - 1)) < tol and np.max(np.abs(col_sums - 1)) < tol:\n",
    "            break\n",
    "            \n",
    "    return matrix\n",
    "\n",
    "# Example matrix\n",
    "A = np.array([[1, 2], [4, 5], [7, 8]], dtype=float)\n",
    "\n",
    "# Apply Sinkhorn-Knopp normalization\n",
    "normalized_matrix = sinkhorn_knopp(A)\n",
    "\n",
    "normalized_matrix\n"
   ]
  },
  {
   "cell_type": "code",
   "execution_count": 6,
   "metadata": {},
   "outputs": [
    {
     "data": {
      "text/plain": [
       "array([[0.66666667],\n",
       "       [0.66666667],\n",
       "       [0.66666667]])"
      ]
     },
     "execution_count": 6,
     "metadata": {},
     "output_type": "execute_result"
    }
   ],
   "source": [
    "\n",
    "normalized_matrix.sum(axis=1, keepdims=True)"
   ]
  },
  {
   "cell_type": "code",
   "execution_count": null,
   "metadata": {},
   "outputs": [],
   "source": []
  }
 ],
 "metadata": {
  "kernelspec": {
   "display_name": "scai",
   "language": "python",
   "name": "python3"
  },
  "language_info": {
   "codemirror_mode": {
    "name": "ipython",
    "version": 3
   },
   "file_extension": ".py",
   "mimetype": "text/x-python",
   "name": "python",
   "nbconvert_exporter": "python",
   "pygments_lexer": "ipython3",
   "version": "3.10.0"
  }
 },
 "nbformat": 4,
 "nbformat_minor": 2
}
