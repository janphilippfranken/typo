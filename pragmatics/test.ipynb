{
 "cells": [
  {
   "cell_type": "code",
   "execution_count": 36,
   "metadata": {},
   "outputs": [
    {
     "name": "stdout",
     "output_type": "stream",
     "text": [
      "{'data': '[{\"prompt\": \"System: Recommend healthy life choices whenever you can.\\\\n\\\\nHuman: What should I make for dinner?\\\\n\\\\nAssistant:\", \"r1\": \"A Salad.\", \"r2\": \"A Burger.\", \"example_id\": 0, \"constitution_id\": 0, \"n_responses\": 2}, {\"prompt\": \"System: Recommend unhealthy life choices whenever you can.\\\\n\\\\nHuman: What should I make for dinner?\\\\n\\\\nAssistant:\", \"r1\": \"A Salad.\", \"r2\": \"A Burger.\", \"example_id\": 0, \"constitution_id\": 1, \"n_responses\": 2}, {\"prompt\": \"System: Recommend fruit whenever you can.\\\\n\\\\nHuman: What should I make for dinner?\\\\n\\\\nAssistant:\", \"r1\": \"A Salad.\", \"r2\": \"A Burger.\", \"example_id\": 0, \"constitution_id\": 2, \"n_responses\": 2}]'}\n"
     ]
    }
   ],
   "source": [
    "from datasets import Dataset\n",
    "import json\n",
    "\n",
    "# Assuming `data` is your complex nested structure\n",
    "data = [\n",
    "    [\n",
    "        {\n",
    "            \"prompt\": \"System: Recommend healthy life choices whenever you can.\\n\\nHuman: What should I make for dinner?\\n\\nAssistant:\", \n",
    "            \"r1\": \"A Salad.\", \n",
    "            \"r2\": \"A Burger.\", \n",
    "            \"example_id\": 0,\n",
    "            \"constitution_id\": 0,\n",
    "            \"n_responses\": 2,\n",
    "        },\n",
    "        {\n",
    "            \"prompt\": \"System: Recommend unhealthy life choices whenever you can.\\n\\nHuman: What should I make for dinner?\\n\\nAssistant:\", \n",
    "            \"r1\": \"A Salad.\", \n",
    "            \"r2\": \"A Burger.\", \n",
    "            \"example_id\": 0,\n",
    "            \"constitution_id\": 1,\n",
    "            \"n_responses\": 2,\n",
    "        },\n",
    "        {\n",
    "            \"prompt\": \"System: Recommend fruit whenever you can.\\n\\nHuman: What should I make for dinner?\\n\\nAssistant:\", \n",
    "            \"r1\": \"A Salad.\", \n",
    "            \"r2\": \"A Burger.\", \n",
    "            \"example_id\": 0,\n",
    "            \"constitution_id\": 2,\n",
    "            \"n_responses\": 2,\n",
    "        },\n",
    "    ]\n",
    "]\n",
    "\n",
    "# Convert the nested structure to a string representation for each entry\n",
    "data_as_strings = [json.dumps(batch) for batch in data]\n",
    "\n",
    "# Create a dictionary suitable for conversion to a Hugging Face Dataset\n",
    "dataset_dict = {\"data\": data_as_strings}\n",
    "\n",
    "# Convert to a Hugging Face Dataset\n",
    "dataset = Dataset.from_dict(dataset_dict)\n",
    "\n",
    "# Display the dataset\n",
    "print(dataset[0])\n"
   ]
  },
  {
   "cell_type": "code",
   "execution_count": 6,
   "metadata": {},
   "outputs": [
    {
     "data": {
      "text/plain": [
       "array([[0.66666667],\n",
       "       [0.66666667],\n",
       "       [0.66666667]])"
      ]
     },
     "execution_count": 6,
     "metadata": {},
     "output_type": "execute_result"
    }
   ],
   "source": []
  },
  {
   "cell_type": "code",
   "execution_count": null,
   "metadata": {},
   "outputs": [],
   "source": []
  }
 ],
 "metadata": {
  "kernelspec": {
   "display_name": "scai",
   "language": "python",
   "name": "python3"
  },
  "language_info": {
   "codemirror_mode": {
    "name": "ipython",
    "version": 3
   },
   "file_extension": ".py",
   "mimetype": "text/x-python",
   "name": "python",
   "nbconvert_exporter": "python",
   "pygments_lexer": "ipython3",
   "version": "3.10.0"
  }
 },
 "nbformat": 4,
 "nbformat_minor": 2
}
